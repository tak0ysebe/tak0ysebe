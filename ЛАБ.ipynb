{
 "cells": [
  {
   "cell_type": "code",
   "execution_count": 1,
   "id": "d2a6125c",
   "metadata": {},
   "outputs": [],
   "source": [
    "from numpy import *"
   ]
  },
  {
   "cell_type": "code",
   "execution_count": 70,
   "id": "2f49ed61",
   "metadata": {},
   "outputs": [
    {
     "data": {
      "text/plain": [
       "array([[ 1,  2,  3,  4,  5,  6,  7,  8,  9],\n",
       "       [ 2,  4,  6,  8, 10, 12, 14, 16, 18],\n",
       "       [ 3,  6,  9, 12, 15, 18, 21, 24, 27],\n",
       "       [ 4,  8, 12, 16, 20, 24, 28, 32, 36],\n",
       "       [ 5, 10, 15, 20, 25, 30, 35, 40, 45],\n",
       "       [ 6, 12, 18, 24, 30, 36, 42, 48, 54],\n",
       "       [ 7, 14, 21, 28, 35, 42, 49, 56, 63],\n",
       "       [ 8, 16, 24, 32, 40, 48, 56, 64, 72],\n",
       "       [ 9, 18, 27, 36, 45, 54, 63, 72, 81]])"
      ]
     },
     "execution_count": 70,
     "metadata": {},
     "output_type": "execute_result"
    }
   ],
   "source": [
    "#1\n",
    "M = arange(1,10) * arange(1,10).reshape(-1,1)\n",
    "M"
   ]
  },
  {
   "cell_type": "code",
   "execution_count": 71,
   "id": "d083d6d2",
   "metadata": {},
   "outputs": [
    {
     "name": "stdout",
     "output_type": "stream",
     "text": [
      "[[ 2.1  0.   0.   0.   0.   0.   0. ]\n",
      " [ 0.   5.8  0.   0.   0.   0.   0. ]\n",
      " [ 0.   0.   9.5  0.   0.   0.   0. ]\n",
      " [ 0.   0.   0.  13.2  0.   0.   0. ]\n",
      " [ 0.   0.   0.   0.  16.9  0.   0. ]\n",
      " [ 0.   0.   0.   0.   0.  20.6  0. ]\n",
      " [ 0.   0.   0.   0.   0.   0.  24.3]]\n"
     ]
    }
   ],
   "source": [
    "#2\n",
    "import numpy as np\n",
    "\n",
    "def matrix(N, el1, d):\n",
    "    progression = np.arange(el1, el1 + N * d, d)\n",
    "    matrix = np.zeros((N, N))\n",
    "    np.fill_diagonal(matrix, progression)\n",
    "    return matrix\n",
    "\n",
    "N = 7\n",
    "el1 = 2.1\n",
    "d = 3.7\n",
    "\n",
    "itog_matrix = matrix(N, el1, d)\n",
    "print(itog_matrix)\n"
   ]
  },
  {
   "cell_type": "code",
   "execution_count": 72,
   "id": "c6f63ec3",
   "metadata": {},
   "outputs": [
    {
     "data": {
      "text/plain": [
       "(77431, 7)"
      ]
     },
     "execution_count": 72,
     "metadata": {},
     "output_type": "execute_result"
    }
   ],
   "source": [
    "#3\n",
    "data = genfromtxt('C:/Users/CoolerMaster/Downloads/stockholm_td_adj.dat')\n",
    "data.shape"
   ]
  },
  {
   "cell_type": "code",
   "execution_count": 73,
   "id": "0b08be75",
   "metadata": {},
   "outputs": [],
   "source": [
    "x = array([data[i,5] for i in range(data.shape[0]) if (data[i,0]==1970)*(data[i,1]==10)])"
   ]
  },
  {
   "cell_type": "code",
   "execution_count": 74,
   "id": "59710f58",
   "metadata": {},
   "outputs": [],
   "source": [
    "savetxt(\"oct70.bin\", x)"
   ]
  },
  {
   "cell_type": "code",
   "execution_count": 75,
   "id": "e4eb3ba1",
   "metadata": {},
   "outputs": [],
   "source": [
    "savetxt(\"oct70.txt\", x)"
   ]
  },
  {
   "cell_type": "code",
   "execution_count": 76,
   "id": "fd3cc471",
   "metadata": {},
   "outputs": [
    {
     "data": {
      "text/plain": [
       "array([[ 0,  1,  2,  3,  4],\n",
       "       [10, 11, 12, 13, 14],\n",
       "       [20, 21, 22, 23, 24],\n",
       "       [30, 31, 32, 33, 34],\n",
       "       [40, 41, 42, 43, 44]])"
      ]
     },
     "execution_count": 76,
     "metadata": {},
     "output_type": "execute_result"
    }
   ],
   "source": [
    "#4\n",
    "A = array([[n+m*10 for n in range(5)] for m in range(5)])\n",
    "A"
   ]
  },
  {
   "cell_type": "code",
   "execution_count": 77,
   "id": "a1eb2cee",
   "metadata": {},
   "outputs": [
    {
     "data": {
      "text/plain": [
       "array([[ 0,  2,  4],\n",
       "       [10, 12, 14],\n",
       "       [20, 22, 24],\n",
       "       [30, 32, 34],\n",
       "       [40, 42, 44]])"
      ]
     },
     "execution_count": 77,
     "metadata": {},
     "output_type": "execute_result"
    }
   ],
   "source": [
    "A[::1, ::2]"
   ]
  },
  {
   "cell_type": "code",
   "execution_count": 78,
   "id": "2474030b",
   "metadata": {},
   "outputs": [
    {
     "data": {
      "text/plain": [
       "array([ 3,  6,  9,  6, 12, 18,  3,  6,  9, 12, 15, 18, 21, 24, 27, 12, 24,\n",
       "       36, 15, 30, 45,  6, 12, 18, 24, 30, 36, 42, 48, 54, 21, 42, 63, 24,\n",
       "       48, 72,  9, 18, 27, 36, 45, 54, 63, 72, 81])"
      ]
     },
     "execution_count": 78,
     "metadata": {},
     "output_type": "execute_result"
    }
   ],
   "source": [
    "#5\n",
    "chet_matrix = M[M % 3 == 0]\n",
    "chet_matrix"
   ]
  },
  {
   "cell_type": "code",
   "execution_count": 94,
   "id": "02ba2de4",
   "metadata": {},
   "outputs": [
    {
     "data": {
      "text/plain": [
       "array([[ 1,  2,  3,  4,  5,  6,  7,  8,  9],\n",
       "       [ 2,  4,  6,  8, 10, 12, 14, 16, 18],\n",
       "       [ 3,  6,  9, 12, 15, 18, 21, 24, 27],\n",
       "       [ 4,  8, 12, 16, 20, 24, 28, 32, 36],\n",
       "       [ 5, 10, 15, 20, 25, 30, 35, 40, 45],\n",
       "       [ 6, 12, 18, 24, 30, 36, 42, 48, 54],\n",
       "       [ 7, 14, 21, 28, 35, 42, 49, 56, 63],\n",
       "       [ 8, 16, 24, 32, 40, 48, 56, 64, 72],\n",
       "       [ 9, 18, 27, 36, 45, 54, 63, 72, 81]])"
      ]
     },
     "execution_count": 94,
     "metadata": {},
     "output_type": "execute_result"
    }
   ],
   "source": [
    "#7\n",
    "M"
   ]
  },
  {
   "cell_type": "code",
   "execution_count": 109,
   "id": "507aaf30",
   "metadata": {},
   "outputs": [
    {
     "data": {
      "text/plain": [
       "array([[ 2,  6, 10, 14, 18],\n",
       "       [ 4, 12, 20, 28, 36],\n",
       "       [ 6, 18, 30, 42, 54],\n",
       "       [ 8, 24, 40, 56, 72]])"
      ]
     },
     "execution_count": 109,
     "metadata": {},
     "output_type": "execute_result"
    }
   ],
   "source": [
    "v1 = M[1::2, ::2]\n",
    "v1"
   ]
  },
  {
   "cell_type": "code",
   "execution_count": 110,
   "id": "9dc29102",
   "metadata": {},
   "outputs": [
    {
     "data": {
      "text/plain": [
       "array([[ 1,  3,  5,  7,  9],\n",
       "       [ 3,  9, 15, 21, 27],\n",
       "       [ 5, 15, 25, 35, 45],\n",
       "       [ 7, 21, 35, 49, 63],\n",
       "       [ 9, 27, 45, 63, 81]])"
      ]
     },
     "execution_count": 110,
     "metadata": {},
     "output_type": "execute_result"
    }
   ],
   "source": [
    "v2 = M[::2, ::2]\n",
    "v2"
   ]
  },
  {
   "cell_type": "code",
   "execution_count": 113,
   "id": "f8341145",
   "metadata": {},
   "outputs": [
    {
     "name": "stderr",
     "output_type": "stream",
     "text": [
      "C:\\Users\\CoolerMaster\\AppData\\Local\\Temp\\ipykernel_15184\\1125266663.py:1: VisibleDeprecationWarning: Creating an ndarray from ragged nested sequences (which is a list-or-tuple of lists-or-tuples-or ndarrays with different lengths or shapes) is deprecated. If you meant to do this, you must specify 'dtype=object' when creating the ndarray.\n",
      "  values = np.array([v1, v2])\n"
     ]
    },
    {
     "ename": "ValueError",
     "evalue": "invalid entry in choice array",
     "output_type": "error",
     "traceback": [
      "\u001b[1;31m---------------------------------------------------------------------------\u001b[0m",
      "\u001b[1;31mValueError\u001b[0m                                Traceback (most recent call last)",
      "\u001b[1;32m~\\AppData\\Local\\Temp\\ipykernel_15184\\1125266663.py\u001b[0m in \u001b[0;36m<module>\u001b[1;34m\u001b[0m\n\u001b[0;32m      1\u001b[0m \u001b[0mvalues\u001b[0m \u001b[1;33m=\u001b[0m \u001b[0mnp\u001b[0m\u001b[1;33m.\u001b[0m\u001b[0marray\u001b[0m\u001b[1;33m(\u001b[0m\u001b[1;33m[\u001b[0m\u001b[0mv1\u001b[0m\u001b[1;33m,\u001b[0m \u001b[0mv2\u001b[0m\u001b[1;33m]\u001b[0m\u001b[1;33m)\u001b[0m\u001b[1;33m\u001b[0m\u001b[1;33m\u001b[0m\u001b[0m\n\u001b[0;32m      2\u001b[0m \u001b[1;33m\u001b[0m\u001b[0m\n\u001b[1;32m----> 3\u001b[1;33m \u001b[0mresult\u001b[0m \u001b[1;33m=\u001b[0m \u001b[0mnp\u001b[0m\u001b[1;33m.\u001b[0m\u001b[0mchoose\u001b[0m\u001b[1;33m(\u001b[0m\u001b[0mv2\u001b[0m\u001b[1;33m,\u001b[0m \u001b[0mvalues\u001b[0m\u001b[1;33m)\u001b[0m\u001b[1;33m\u001b[0m\u001b[1;33m\u001b[0m\u001b[0m\n\u001b[0m\u001b[0;32m      4\u001b[0m \u001b[1;33m\u001b[0m\u001b[0m\n\u001b[0;32m      5\u001b[0m \u001b[0mresult\u001b[0m\u001b[1;33m\u001b[0m\u001b[1;33m\u001b[0m\u001b[0m\n",
      "\u001b[1;32m<__array_function__ internals>\u001b[0m in \u001b[0;36mchoose\u001b[1;34m(*args, **kwargs)\u001b[0m\n",
      "\u001b[1;32mD:\\AAct 3.8.3 Portable\\anaconda3\\lib\\site-packages\\numpy\\core\\fromnumeric.py\u001b[0m in \u001b[0;36mchoose\u001b[1;34m(a, choices, out, mode)\u001b[0m\n\u001b[0;32m    427\u001b[0m \u001b[1;33m\u001b[0m\u001b[0m\n\u001b[0;32m    428\u001b[0m     \"\"\"\n\u001b[1;32m--> 429\u001b[1;33m     \u001b[1;32mreturn\u001b[0m \u001b[0m_wrapfunc\u001b[0m\u001b[1;33m(\u001b[0m\u001b[0ma\u001b[0m\u001b[1;33m,\u001b[0m \u001b[1;34m'choose'\u001b[0m\u001b[1;33m,\u001b[0m \u001b[0mchoices\u001b[0m\u001b[1;33m,\u001b[0m \u001b[0mout\u001b[0m\u001b[1;33m=\u001b[0m\u001b[0mout\u001b[0m\u001b[1;33m,\u001b[0m \u001b[0mmode\u001b[0m\u001b[1;33m=\u001b[0m\u001b[0mmode\u001b[0m\u001b[1;33m)\u001b[0m\u001b[1;33m\u001b[0m\u001b[1;33m\u001b[0m\u001b[0m\n\u001b[0m\u001b[0;32m    430\u001b[0m \u001b[1;33m\u001b[0m\u001b[0m\n\u001b[0;32m    431\u001b[0m \u001b[1;33m\u001b[0m\u001b[0m\n",
      "\u001b[1;32mD:\\AAct 3.8.3 Portable\\anaconda3\\lib\\site-packages\\numpy\\core\\fromnumeric.py\u001b[0m in \u001b[0;36m_wrapfunc\u001b[1;34m(obj, method, *args, **kwds)\u001b[0m\n\u001b[0;32m     55\u001b[0m \u001b[1;33m\u001b[0m\u001b[0m\n\u001b[0;32m     56\u001b[0m     \u001b[1;32mtry\u001b[0m\u001b[1;33m:\u001b[0m\u001b[1;33m\u001b[0m\u001b[1;33m\u001b[0m\u001b[0m\n\u001b[1;32m---> 57\u001b[1;33m         \u001b[1;32mreturn\u001b[0m \u001b[0mbound\u001b[0m\u001b[1;33m(\u001b[0m\u001b[1;33m*\u001b[0m\u001b[0margs\u001b[0m\u001b[1;33m,\u001b[0m \u001b[1;33m**\u001b[0m\u001b[0mkwds\u001b[0m\u001b[1;33m)\u001b[0m\u001b[1;33m\u001b[0m\u001b[1;33m\u001b[0m\u001b[0m\n\u001b[0m\u001b[0;32m     58\u001b[0m     \u001b[1;32mexcept\u001b[0m \u001b[0mTypeError\u001b[0m\u001b[1;33m:\u001b[0m\u001b[1;33m\u001b[0m\u001b[1;33m\u001b[0m\u001b[0m\n\u001b[0;32m     59\u001b[0m         \u001b[1;31m# A TypeError occurs if the object does have such a method in its\u001b[0m\u001b[1;33m\u001b[0m\u001b[1;33m\u001b[0m\u001b[0m\n",
      "\u001b[1;31mValueError\u001b[0m: invalid entry in choice array"
     ]
    }
   ],
   "source": [
    "values = np.array([v1, v2])\n",
    "\n",
    "result = np.choose(v2, values)\n",
    "\n",
    "result"
   ]
  },
  {
   "cell_type": "code",
   "execution_count": 125,
   "id": "4b754edf",
   "metadata": {},
   "outputs": [
    {
     "data": {
      "text/plain": [
       "80"
      ]
     },
     "execution_count": 125,
     "metadata": {},
     "output_type": "execute_result"
    }
   ],
   "source": [
    "#8\n",
    "v1 = np.array([0, 1, 2, 3, 4])\n",
    "v2 = np.array([5, 6, 7, 8, 9])\n",
    "s = dot(v1, v2)\n",
    "s"
   ]
  },
  {
   "cell_type": "code",
   "execution_count": 126,
   "id": "2354ab11",
   "metadata": {},
   "outputs": [],
   "source": [
    "l1 = linalg.norm(v1)\n",
    "l2 = linalg.norm(v2)"
   ]
  },
  {
   "cell_type": "code",
   "execution_count": 127,
   "id": "aff5fc7a",
   "metadata": {},
   "outputs": [],
   "source": [
    "result = s / (l1 * l2)"
   ]
  },
  {
   "cell_type": "code",
   "execution_count": 128,
   "id": "4d464d20",
   "metadata": {},
   "outputs": [
    {
     "data": {
      "text/plain": [
       "0.41613250096978566"
      ]
     },
     "execution_count": 128,
     "metadata": {},
     "output_type": "execute_result"
    }
   ],
   "source": [
    "arccos(result) # в радианах"
   ]
  },
  {
   "cell_type": "code",
   "execution_count": 170,
   "id": "f7dd97de",
   "metadata": {},
   "outputs": [
    {
     "data": {
      "text/plain": [
       "[[0, 5, 0, 5, 0],\n",
       " [5, 0, 5, 0, 5],\n",
       " [0, 5, 0, 5, 0],\n",
       " [5, 0, 5, 0, 5],\n",
       " [0, 5, 0, 5, 0]]"
      ]
     },
     "execution_count": 170,
     "metadata": {},
     "output_type": "execute_result"
    }
   ],
   "source": [
    "#9\n",
    "matrix1 = [[0 for i in range(5)] for j in range(5)]\n",
    "matrix2 = [[0 if (i + j) % 2 == 0 else 5 for i in range(5)] for j in range(5)]\n",
    "matrix2"
   ]
  },
  {
   "cell_type": "code",
   "execution_count": 171,
   "id": "a716025b",
   "metadata": {},
   "outputs": [
    {
     "data": {
      "text/plain": [
       "[[5, 5, 5, 5, 5],\n",
       " [0, 5, 5, 5, 5],\n",
       " [0, 0, 5, 5, 5],\n",
       " [0, 0, 0, 5, 5],\n",
       " [0, 0, 0, 0, 5]]"
      ]
     },
     "execution_count": 171,
     "metadata": {},
     "output_type": "execute_result"
    }
   ],
   "source": [
    "for i in range(5):\n",
    "    for j in range(5):\n",
    "        if i == j or i < j:\n",
    "            matrix1[i][j] = 5\n",
    "matrix1"
   ]
  },
  {
   "cell_type": "code",
   "execution_count": 172,
   "id": "0a23fef8",
   "metadata": {},
   "outputs": [
    {
     "data": {
      "text/plain": [
       "3124.999999999999"
      ]
     },
     "execution_count": 172,
     "metadata": {},
     "output_type": "execute_result"
    }
   ],
   "source": [
    "linalg.det(matrix1)"
   ]
  },
  {
   "cell_type": "code",
   "execution_count": 173,
   "id": "8eff9b10",
   "metadata": {},
   "outputs": [
    {
     "data": {
      "text/plain": [
       "0.0"
      ]
     },
     "execution_count": 173,
     "metadata": {},
     "output_type": "execute_result"
    }
   ],
   "source": [
    "linalg.det(matrix2)"
   ]
  },
  {
   "cell_type": "code",
   "execution_count": 174,
   "id": "b1fa97e8",
   "metadata": {},
   "outputs": [
    {
     "data": {
      "text/plain": [
       "array([[ 2.00000000e-01, -2.00000000e-01,  1.11022302e-17,\n",
       "        -6.16297582e-34,  3.42113883e-50],\n",
       "       [ 0.00000000e+00,  2.00000000e-01, -2.00000000e-01,\n",
       "         1.11022302e-17, -6.16297582e-34],\n",
       "       [ 0.00000000e+00,  0.00000000e+00,  2.00000000e-01,\n",
       "        -2.00000000e-01,  1.11022302e-17],\n",
       "       [-0.00000000e+00, -0.00000000e+00, -0.00000000e+00,\n",
       "         2.00000000e-01, -2.00000000e-01],\n",
       "       [ 0.00000000e+00,  0.00000000e+00,  0.00000000e+00,\n",
       "         0.00000000e+00,  2.00000000e-01]])"
      ]
     },
     "execution_count": 174,
     "metadata": {},
     "output_type": "execute_result"
    }
   ],
   "source": [
    "linalg.inv(matrix1)"
   ]
  },
  {
   "cell_type": "code",
   "execution_count": 175,
   "id": "8c259139",
   "metadata": {},
   "outputs": [
    {
     "ename": "LinAlgError",
     "evalue": "Singular matrix",
     "output_type": "error",
     "traceback": [
      "\u001b[1;31m---------------------------------------------------------------------------\u001b[0m",
      "\u001b[1;31mLinAlgError\u001b[0m                               Traceback (most recent call last)",
      "\u001b[1;32m~\\AppData\\Local\\Temp\\ipykernel_15184\\3981767068.py\u001b[0m in \u001b[0;36m<module>\u001b[1;34m\u001b[0m\n\u001b[1;32m----> 1\u001b[1;33m \u001b[0mlinalg\u001b[0m\u001b[1;33m.\u001b[0m\u001b[0minv\u001b[0m\u001b[1;33m(\u001b[0m\u001b[0mmatrix2\u001b[0m\u001b[1;33m)\u001b[0m\u001b[1;33m\u001b[0m\u001b[1;33m\u001b[0m\u001b[0m\n\u001b[0m",
      "\u001b[1;32m<__array_function__ internals>\u001b[0m in \u001b[0;36minv\u001b[1;34m(*args, **kwargs)\u001b[0m\n",
      "\u001b[1;32mD:\\AAct 3.8.3 Portable\\anaconda3\\lib\\site-packages\\numpy\\linalg\\linalg.py\u001b[0m in \u001b[0;36minv\u001b[1;34m(a)\u001b[0m\n\u001b[0;32m    543\u001b[0m     \u001b[0msignature\u001b[0m \u001b[1;33m=\u001b[0m \u001b[1;34m'D->D'\u001b[0m \u001b[1;32mif\u001b[0m \u001b[0misComplexType\u001b[0m\u001b[1;33m(\u001b[0m\u001b[0mt\u001b[0m\u001b[1;33m)\u001b[0m \u001b[1;32melse\u001b[0m \u001b[1;34m'd->d'\u001b[0m\u001b[1;33m\u001b[0m\u001b[1;33m\u001b[0m\u001b[0m\n\u001b[0;32m    544\u001b[0m     \u001b[0mextobj\u001b[0m \u001b[1;33m=\u001b[0m \u001b[0mget_linalg_error_extobj\u001b[0m\u001b[1;33m(\u001b[0m\u001b[0m_raise_linalgerror_singular\u001b[0m\u001b[1;33m)\u001b[0m\u001b[1;33m\u001b[0m\u001b[1;33m\u001b[0m\u001b[0m\n\u001b[1;32m--> 545\u001b[1;33m     \u001b[0mainv\u001b[0m \u001b[1;33m=\u001b[0m \u001b[0m_umath_linalg\u001b[0m\u001b[1;33m.\u001b[0m\u001b[0minv\u001b[0m\u001b[1;33m(\u001b[0m\u001b[0ma\u001b[0m\u001b[1;33m,\u001b[0m \u001b[0msignature\u001b[0m\u001b[1;33m=\u001b[0m\u001b[0msignature\u001b[0m\u001b[1;33m,\u001b[0m \u001b[0mextobj\u001b[0m\u001b[1;33m=\u001b[0m\u001b[0mextobj\u001b[0m\u001b[1;33m)\u001b[0m\u001b[1;33m\u001b[0m\u001b[1;33m\u001b[0m\u001b[0m\n\u001b[0m\u001b[0;32m    546\u001b[0m     \u001b[1;32mreturn\u001b[0m \u001b[0mwrap\u001b[0m\u001b[1;33m(\u001b[0m\u001b[0mainv\u001b[0m\u001b[1;33m.\u001b[0m\u001b[0mastype\u001b[0m\u001b[1;33m(\u001b[0m\u001b[0mresult_t\u001b[0m\u001b[1;33m,\u001b[0m \u001b[0mcopy\u001b[0m\u001b[1;33m=\u001b[0m\u001b[1;32mFalse\u001b[0m\u001b[1;33m)\u001b[0m\u001b[1;33m)\u001b[0m\u001b[1;33m\u001b[0m\u001b[1;33m\u001b[0m\u001b[0m\n\u001b[0;32m    547\u001b[0m \u001b[1;33m\u001b[0m\u001b[0m\n",
      "\u001b[1;32mD:\\AAct 3.8.3 Portable\\anaconda3\\lib\\site-packages\\numpy\\linalg\\linalg.py\u001b[0m in \u001b[0;36m_raise_linalgerror_singular\u001b[1;34m(err, flag)\u001b[0m\n\u001b[0;32m     86\u001b[0m \u001b[1;33m\u001b[0m\u001b[0m\n\u001b[0;32m     87\u001b[0m \u001b[1;32mdef\u001b[0m \u001b[0m_raise_linalgerror_singular\u001b[0m\u001b[1;33m(\u001b[0m\u001b[0merr\u001b[0m\u001b[1;33m,\u001b[0m \u001b[0mflag\u001b[0m\u001b[1;33m)\u001b[0m\u001b[1;33m:\u001b[0m\u001b[1;33m\u001b[0m\u001b[1;33m\u001b[0m\u001b[0m\n\u001b[1;32m---> 88\u001b[1;33m     \u001b[1;32mraise\u001b[0m \u001b[0mLinAlgError\u001b[0m\u001b[1;33m(\u001b[0m\u001b[1;34m\"Singular matrix\"\u001b[0m\u001b[1;33m)\u001b[0m\u001b[1;33m\u001b[0m\u001b[1;33m\u001b[0m\u001b[0m\n\u001b[0m\u001b[0;32m     89\u001b[0m \u001b[1;33m\u001b[0m\u001b[0m\n\u001b[0;32m     90\u001b[0m \u001b[1;32mdef\u001b[0m \u001b[0m_raise_linalgerror_nonposdef\u001b[0m\u001b[1;33m(\u001b[0m\u001b[0merr\u001b[0m\u001b[1;33m,\u001b[0m \u001b[0mflag\u001b[0m\u001b[1;33m)\u001b[0m\u001b[1;33m:\u001b[0m\u001b[1;33m\u001b[0m\u001b[1;33m\u001b[0m\u001b[0m\n",
      "\u001b[1;31mLinAlgError\u001b[0m: Singular matrix"
     ]
    }
   ],
   "source": [
    "linalg.inv(matrix2)"
   ]
  },
  {
   "cell_type": "code",
   "execution_count": null,
   "id": "a9352f06",
   "metadata": {},
   "outputs": [],
   "source": []
  }
 ],
 "metadata": {
  "kernelspec": {
   "display_name": "Python 3 (ipykernel)",
   "language": "python",
   "name": "python3"
  },
  "language_info": {
   "codemirror_mode": {
    "name": "ipython",
    "version": 3
   },
   "file_extension": ".py",
   "mimetype": "text/x-python",
   "name": "python",
   "nbconvert_exporter": "python",
   "pygments_lexer": "ipython3",
   "version": "3.9.13"
  }
 },
 "nbformat": 4,
 "nbformat_minor": 5
}
