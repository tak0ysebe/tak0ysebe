{
 "cells": [
  {
   "cell_type": "code",
   "execution_count": 2,
   "id": "7e7a9e87",
   "metadata": {},
   "outputs": [],
   "source": [
    "import sympy as sp\n",
    "import numpy as np"
   ]
  },
  {
   "cell_type": "markdown",
   "id": "d754d2a5",
   "metadata": {},
   "source": [
    "# Задание 7"
   ]
  },
  {
   "cell_type": "code",
   "execution_count": 3,
   "id": "1fa3fb2d",
   "metadata": {},
   "outputs": [
    {
     "data": {
      "text/plain": [
       "(Matrix([\n",
       " [1, 0, 0,  0.261735419630156],\n",
       " [0, 1, 0,  0.792318634423897],\n",
       " [0, 0, 1, -0.273115220483641]]),\n",
       " (0, 1, 2))"
      ]
     },
     "execution_count": 3,
     "metadata": {},
     "output_type": "execute_result"
    }
   ],
   "source": [
    "#1\n",
    "R_xy = sp.Matrix([[1, 0.1, 0.15, 0.3],\n",
    "                  [0.1, 1, 0.8, 0.6 ], \n",
    "                  [0.15, 0.8, 1, 0.4]])\n",
    "R_xy.rref()"
   ]
  },
  {
   "attachments": {
    "image.png": {
     "image/png": "[encoded data removed]"
    }
   },
   "cell_type": "markdown",
   "id": "5dcfcc31",
   "metadata": {},
   "source": [
    "![image.png](attachment:image.png)"
   ]
  },
  {
   "cell_type": "markdown",
   "id": "f4276afa",
   "metadata": {},
   "source": [
    "t_yi = 0.261735419630156 * t_xi1 + 0.792318634423897 * t_xi2 - 0.273115220483641 * t_xi3"
   ]
  },
  {
   "cell_type": "markdown",
   "id": "9887d0b2",
   "metadata": {},
   "source": [
    "Вывод: переменная x2 имеет наибольшее влияние на уравнение регрессии в стандартизированной форме.\n",
    "    "
   ]
  },
  {
   "cell_type": "code",
   "execution_count": 7,
   "id": "aa4c9b43",
   "metadata": {},
   "outputs": [
    {
     "name": "stdout",
     "output_type": "stream",
     "text": [
      "нескорректированный коэффициент множественной корреляции = 0.6668326014450168\n"
     ]
    }
   ],
   "source": [
    "#2\n",
    "R = np.sqrt(0.261735419630156 * 0.3 + 0.792318634423897 * 0.6 - 0.273115220483641 * 0.4)\n",
    "print(f'нескорректированный коэффициент множественной корреляции = {R}')"
   ]
  },
  {
   "cell_type": "code",
   "execution_count": 14,
   "id": "522c7015",
   "metadata": {},
   "outputs": [
    {
     "name": "stdout",
     "output_type": "stream",
     "text": [
      "скорректированный коэффициент множественной корреляции = 0.616918702789795\n"
     ]
    }
   ],
   "source": [
    "n=30\n",
    "m=3\n",
    "R_cor = np.sqrt(1 - (1 - R**2) * ((n - 1)/(n - m - 1)))\n",
    "print(f'скорректированный коэффициент множественной корреляции = {R_cor}')"
   ]
  },
  {
   "cell_type": "code",
   "execution_count": 15,
   "id": "5471fcd1",
   "metadata": {},
   "outputs": [
    {
     "name": "stdout",
     "output_type": "stream",
     "text": [
      "частный F-критерий Фишшера = 16.604969262295057\n"
     ]
    }
   ],
   "source": [
    "#3\n",
    "F = ((R**2 - 0.3**2)/(1 - R**2)) * (n - m - 1)\n",
    "print(f'частный F-критерий Фишшера = {F}')"
   ]
  },
  {
   "cell_type": "code",
   "execution_count": 16,
   "id": "5b21346e",
   "metadata": {},
   "outputs": [
    {
     "data": {
      "text/plain": [
       "True"
      ]
     },
     "execution_count": 16,
     "metadata": {},
     "output_type": "execute_result"
    }
   ],
   "source": [
    "F_табл = 2.975154\n",
    "F>F_табл"
   ]
  },
  {
   "cell_type": "markdown",
   "id": "750dbee4",
   "metadata": {},
   "source": [
    "Так как F > F_табл, то после включения x2 и x3 включать переменную x1 является целеосообразным"
   ]
  },
  {
   "cell_type": "markdown",
   "id": "34501486",
   "metadata": {},
   "source": [
    "# Задача 18"
   ]
  },
  {
   "cell_type": "code",
   "execution_count": 17,
   "id": "6765e501",
   "metadata": {},
   "outputs": [
    {
     "data": {
      "text/plain": [
       "(Matrix([\n",
       " [1, 0, 0.708976157082749],\n",
       " [0, 1, 0.160589060308555]]),\n",
       " (0, 1))"
      ]
     },
     "execution_count": 17,
     "metadata": {},
     "output_type": "execute_result"
    }
   ],
   "source": [
    "#1\n",
    "R_xy_2 = sp.Matrix([[1, 0.38, 0.77],\n",
    "                 [0.38, 1, 0.43]])\n",
    "R_xy_2.rref()"
   ]
  },
  {
   "cell_type": "code",
   "execution_count": 18,
   "id": "25c03e98",
   "metadata": {},
   "outputs": [
    {
     "data": {
      "text/plain": [
       "(0.4253856942496494, 0.24088359046283248)"
      ]
     },
     "execution_count": 18,
     "metadata": {},
     "output_type": "execute_result"
    }
   ],
   "source": [
    "b1 = (0.708976157082749 * (27 / 45))\n",
    "b2 = (0.160589060308555 * (27 / 18))\n",
    "b1, b2"
   ]
  },
  {
   "cell_type": "code",
   "execution_count": 19,
   "id": "74441f35",
   "metadata": {},
   "outputs": [
    {
     "data": {
      "text/plain": [
       "811.3413394109397"
      ]
     },
     "execution_count": 19,
     "metadata": {},
     "output_type": "execute_result"
    }
   ],
   "source": [
    "b0 = 1000 - 0.4253856942496494*420 - 0.24088359046283248 * 41.5\n",
    "b0"
   ]
  },
  {
   "cell_type": "markdown",
   "id": "27d6ad43",
   "metadata": {},
   "source": [
    "уранение регрессии в натуральном масштабе:\n",
    "\n",
    "y = 811.3413394109397 + 0.4253856942496494 * x1 + 0.24088359046283248 * x2\n"
   ]
  },
  {
   "cell_type": "markdown",
   "id": "0891d761",
   "metadata": {},
   "source": [
    "уравнение регрессии в стандартизированном масштабе:\n",
    "\n",
    "t_yi = 0.708976157082749 * t_xi1 + 0.160589060308555 * t_xi2 "
   ]
  },
  {
   "cell_type": "code",
   "execution_count": 20,
   "id": "77d54dae",
   "metadata": {},
   "outputs": [
    {
     "name": "stdout",
     "output_type": "stream",
     "text": [
      "коэффициент корреляции между y и x1: 0.7263761423614302\n"
     ]
    }
   ],
   "source": [
    "#2\n",
    "#частные коэффициенты корреляции\n",
    "r_yx1 = (0.77 - 0.43 * 0.38)/(np.sqrt((1 - 0.43**2)*(1 - 0.38**2)))\n",
    "print(f'коэффициент корреляции между y и x1: {r_yx1}')"
   ]
  },
  {
   "cell_type": "code",
   "execution_count": 22,
   "id": "b6b1272e",
   "metadata": {},
   "outputs": [
    {
     "name": "stdout",
     "output_type": "stream",
     "text": [
      "коэффициент корреляции между y и x2: 0.23280955117781482\n"
     ]
    }
   ],
   "source": [
    "r_yx2 = (0.43 - 0.77 * 0.38)/(np.sqrt((1 - 0.77**2)*(1 - 0.38**2)))\n",
    "print(f'коэффициент корреляции между y и x2: {r_yx2}')"
   ]
  },
  {
   "cell_type": "code",
   "execution_count": 21,
   "id": "b3d6b27f",
   "metadata": {},
   "outputs": [
    {
     "name": "stdout",
     "output_type": "stream",
     "text": [
      "коэффициент корреляции между x1 и x2: 0.08488928220786499\n"
     ]
    }
   ],
   "source": [
    "r_x1x2 = (0.38 - 0.77 * 0.43)/(np.sqrt((1 - 0.77**2)*(1 - 0.43**2)))\n",
    "print(f'коэффициент корреляции между x1 и x2: {r_x1x2}')"
   ]
  },
  {
   "cell_type": "code",
   "execution_count": 23,
   "id": "abbf21e2",
   "metadata": {},
   "outputs": [
    {
     "name": "stdout",
     "output_type": "stream",
     "text": [
      "нескорректированный коэффициент множественной корреляции: 0.7841970013245366\n"
     ]
    }
   ],
   "source": [
    "#множественная корреляция\n",
    "R = np.sqrt(0.708976157082749 * 0.77 + 0.160589060308555 * 0.43)\n",
    "print(f'нескорректированный коэффициент множественной корреляции: {R}') "
   ]
  },
  {
   "cell_type": "code",
   "execution_count": 24,
   "id": "2c1e08b4",
   "metadata": {},
   "outputs": [
    {
     "data": {
      "text/plain": [
       "0.17866199158485277"
      ]
     },
     "execution_count": 24,
     "metadata": {},
     "output_type": "execute_result"
    }
   ],
   "source": [
    "#3\n",
    "E1 = 0.4253856942496494 * 420 / 1000\n",
    "E1"
   ]
  },
  {
   "cell_type": "code",
   "execution_count": 25,
   "id": "b76ccb36",
   "metadata": {},
   "outputs": [
    {
     "data": {
      "text/plain": [
       "0.009996669004207547"
      ]
     },
     "execution_count": 25,
     "metadata": {},
     "output_type": "execute_result"
    }
   ],
   "source": [
    "E2 = 0.24088359046283248 * 41.5 / 1000\n",
    "E2"
   ]
  },
  {
   "cell_type": "markdown",
   "id": "d8ee3f68",
   "metadata": {},
   "source": [
    "Вывод: коэффициент эластичности исходит из соотношения средних, а B коэффициент из соотношения средних квадратичных отклонений"
   ]
  },
  {
   "cell_type": "code",
   "execution_count": 32,
   "id": "2b5e98d7",
   "metadata": {},
   "outputs": [
    {
     "name": "stdout",
     "output_type": "stream",
     "text": [
      "частный F-критерий Фишшера для x1: 1.5472702436892005\n"
     ]
    }
   ],
   "source": [
    "#4\n",
    "n=30\n",
    "m=2\n",
    "F1 = ((R**2 - 0.77**2)/(1 - R**2)) * (n - m - 1)\n",
    "print(f'частный F-критерий Фишшера для x1: {F1}')"
   ]
  },
  {
   "cell_type": "code",
   "execution_count": 33,
   "id": "057ae6d3",
   "metadata": {},
   "outputs": [
    {
     "name": "stdout",
     "output_type": "stream",
     "text": [
      "частный F-критерий Фишшера для x2: 30.15765162277344\n"
     ]
    }
   ],
   "source": [
    "F2 = ((R**2 - 0.43**2)/(1 - R**2)) * (n - m - 1)\n",
    "print(f'частный F-критерий Фишшера для x2: {F2}')"
   ]
  },
  {
   "cell_type": "code",
   "execution_count": 28,
   "id": "7fd6308e",
   "metadata": {},
   "outputs": [],
   "source": [
    "F_табл = 3.354130829"
   ]
  },
  {
   "cell_type": "code",
   "execution_count": 29,
   "id": "a5cce318",
   "metadata": {},
   "outputs": [
    {
     "data": {
      "text/plain": [
       "21.561741886132644"
      ]
     },
     "execution_count": 29,
     "metadata": {},
     "output_type": "execute_result"
    }
   ],
   "source": [
    "F_расч = (R**2/(1 - R**2) * (n - m - 1))/2\n",
    "F_расч"
   ]
  },
  {
   "cell_type": "code",
   "execution_count": null,
   "id": "1124b011",
   "metadata": {},
   "outputs": [],
   "source": []
  }
 ],
 "metadata": {
  "kernelspec": {
   "display_name": "Python 3 (ipykernel)",
   "language": "python",
   "name": "python3"
  },
  "language_info": {
   "codemirror_mode": {
    "name": "ipython",
    "version": 3
   },
   "file_extension": ".py",
   "mimetype": "text/x-python",
   "name": "python",
   "nbconvert_exporter": "python",
   "pygments_lexer": "ipython3",
   "version": "3.9.13"
  }
 },
 "nbformat": 4,
 "nbformat_minor": 5
}
